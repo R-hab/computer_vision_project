{
  "cells": [
    {
      "cell_type": "markdown",
      "source": [
        "## Computer_Vision && Deeplearning Project"
      ],
      "metadata": {
        "id": "F6vZmdwZ5Gt6"
      }
    },
    {
      "cell_type": "markdown",
      "source": [
        "\n",
        "\n",
        "#   Facial Emotion Recognition  Using CNN\n",
        "\n"
      ],
      "metadata": {
        "id": "Ni6I7q7V43X7"
      }
    },
    {
      "cell_type": "code",
      "execution_count": 1,
      "metadata": {
        "colab": {
          "base_uri": "https://localhost:8080/"
        },
        "id": "2sanYfS-olW2",
        "outputId": "68546357-c1db-42fc-edc5-3f0b6d028a83"
      },
      "outputs": [
        {
          "output_type": "stream",
          "name": "stdout",
          "text": [
            "Mounted at /content/drive\n"
          ]
        }
      ],
      "source": [
        "from google.colab import drive\n",
        "drive.mount('/content/drive', force_remount = True)"
      ]
    },
    {
      "cell_type": "code",
      "execution_count": 2,
      "metadata": {
        "colab": {
          "base_uri": "https://localhost:8080/"
        },
        "id": "fWssUT0DqZXV",
        "outputId": "0678c8f9-7700-4a74-ff9c-ee82dc0479cc"
      },
      "outputs": [
        {
          "output_type": "stream",
          "name": "stdout",
          "text": [
            "/content/drive/MyDrive/fer2013\n"
          ]
        }
      ],
      "source": [
        "%cd drive/MyDrive/fer2013/"
      ]
    },
    {
      "cell_type": "code",
      "execution_count": 3,
      "metadata": {
        "id": "Lds2-u9brkEG"
      },
      "outputs": [],
      "source": [
        "import os \n",
        "import numpy as np\n",
        "import pandas as pd\n",
        "import tensorflow as tf\n",
        "import matplotlib.pyplot as plt\n",
        "from sklearn.model_selection import train_test_split\n",
        "%matplotlib inline"
      ]
    },
    {
      "cell_type": "code",
      "execution_count": 4,
      "metadata": {
        "colab": {
          "base_uri": "https://localhost:8080/",
          "height": 206
        },
        "id": "vQ7eGRORsc-G",
        "outputId": "92690473-155c-4447-e630-e36a06b3eb8c"
      },
      "outputs": [
        {
          "output_type": "execute_result",
          "data": {
            "text/plain": [
              "   emotion                                             pixels     Usage\n",
              "0        0  70 80 82 72 58 58 60 63 54 58 60 48 89 115 121...  Training\n",
              "1        0  151 150 147 155 148 133 111 140 170 174 182 15...  Training\n",
              "2        2  231 212 156 164 174 138 161 173 182 200 106 38...  Training\n",
              "3        4  24 32 36 30 32 23 19 20 30 41 21 22 32 34 21 1...  Training\n",
              "4        6  4 0 0 0 0 0 0 0 0 0 0 0 3 15 23 28 48 50 58 84...  Training"
            ],
            "text/html": [
              "\n",
              "  <div id=\"df-bbf66a69-3564-49c9-8eb4-efa6c6bbe052\">\n",
              "    <div class=\"colab-df-container\">\n",
              "      <div>\n",
              "<style scoped>\n",
              "    .dataframe tbody tr th:only-of-type {\n",
              "        vertical-align: middle;\n",
              "    }\n",
              "\n",
              "    .dataframe tbody tr th {\n",
              "        vertical-align: top;\n",
              "    }\n",
              "\n",
              "    .dataframe thead th {\n",
              "        text-align: right;\n",
              "    }\n",
              "</style>\n",
              "<table border=\"1\" class=\"dataframe\">\n",
              "  <thead>\n",
              "    <tr style=\"text-align: right;\">\n",
              "      <th></th>\n",
              "      <th>emotion</th>\n",
              "      <th>pixels</th>\n",
              "      <th>Usage</th>\n",
              "    </tr>\n",
              "  </thead>\n",
              "  <tbody>\n",
              "    <tr>\n",
              "      <th>0</th>\n",
              "      <td>0</td>\n",
              "      <td>70 80 82 72 58 58 60 63 54 58 60 48 89 115 121...</td>\n",
              "      <td>Training</td>\n",
              "    </tr>\n",
              "    <tr>\n",
              "      <th>1</th>\n",
              "      <td>0</td>\n",
              "      <td>151 150 147 155 148 133 111 140 170 174 182 15...</td>\n",
              "      <td>Training</td>\n",
              "    </tr>\n",
              "    <tr>\n",
              "      <th>2</th>\n",
              "      <td>2</td>\n",
              "      <td>231 212 156 164 174 138 161 173 182 200 106 38...</td>\n",
              "      <td>Training</td>\n",
              "    </tr>\n",
              "    <tr>\n",
              "      <th>3</th>\n",
              "      <td>4</td>\n",
              "      <td>24 32 36 30 32 23 19 20 30 41 21 22 32 34 21 1...</td>\n",
              "      <td>Training</td>\n",
              "    </tr>\n",
              "    <tr>\n",
              "      <th>4</th>\n",
              "      <td>6</td>\n",
              "      <td>4 0 0 0 0 0 0 0 0 0 0 0 3 15 23 28 48 50 58 84...</td>\n",
              "      <td>Training</td>\n",
              "    </tr>\n",
              "  </tbody>\n",
              "</table>\n",
              "</div>\n",
              "      <button class=\"colab-df-convert\" onclick=\"convertToInteractive('df-bbf66a69-3564-49c9-8eb4-efa6c6bbe052')\"\n",
              "              title=\"Convert this dataframe to an interactive table.\"\n",
              "              style=\"display:none;\">\n",
              "        \n",
              "  <svg xmlns=\"http://www.w3.org/2000/svg\" height=\"24px\"viewBox=\"0 0 24 24\"\n",
              "       width=\"24px\">\n",
              "    <path d=\"M0 0h24v24H0V0z\" fill=\"none\"/>\n",
              "    <path d=\"M18.56 5.44l.94 2.06.94-2.06 2.06-.94-2.06-.94-.94-2.06-.94 2.06-2.06.94zm-11 1L8.5 8.5l.94-2.06 2.06-.94-2.06-.94L8.5 2.5l-.94 2.06-2.06.94zm10 10l.94 2.06.94-2.06 2.06-.94-2.06-.94-.94-2.06-.94 2.06-2.06.94z\"/><path d=\"M17.41 7.96l-1.37-1.37c-.4-.4-.92-.59-1.43-.59-.52 0-1.04.2-1.43.59L10.3 9.45l-7.72 7.72c-.78.78-.78 2.05 0 2.83L4 21.41c.39.39.9.59 1.41.59.51 0 1.02-.2 1.41-.59l7.78-7.78 2.81-2.81c.8-.78.8-2.07 0-2.86zM5.41 20L4 18.59l7.72-7.72 1.47 1.35L5.41 20z\"/>\n",
              "  </svg>\n",
              "      </button>\n",
              "      \n",
              "  <style>\n",
              "    .colab-df-container {\n",
              "      display:flex;\n",
              "      flex-wrap:wrap;\n",
              "      gap: 12px;\n",
              "    }\n",
              "\n",
              "    .colab-df-convert {\n",
              "      background-color: #E8F0FE;\n",
              "      border: none;\n",
              "      border-radius: 50%;\n",
              "      cursor: pointer;\n",
              "      display: none;\n",
              "      fill: #1967D2;\n",
              "      height: 32px;\n",
              "      padding: 0 0 0 0;\n",
              "      width: 32px;\n",
              "    }\n",
              "\n",
              "    .colab-df-convert:hover {\n",
              "      background-color: #E2EBFA;\n",
              "      box-shadow: 0px 1px 2px rgba(60, 64, 67, 0.3), 0px 1px 3px 1px rgba(60, 64, 67, 0.15);\n",
              "      fill: #174EA6;\n",
              "    }\n",
              "\n",
              "    [theme=dark] .colab-df-convert {\n",
              "      background-color: #3B4455;\n",
              "      fill: #D2E3FC;\n",
              "    }\n",
              "\n",
              "    [theme=dark] .colab-df-convert:hover {\n",
              "      background-color: #434B5C;\n",
              "      box-shadow: 0px 1px 3px 1px rgba(0, 0, 0, 0.15);\n",
              "      filter: drop-shadow(0px 1px 2px rgba(0, 0, 0, 0.3));\n",
              "      fill: #FFFFFF;\n",
              "    }\n",
              "  </style>\n",
              "\n",
              "      <script>\n",
              "        const buttonEl =\n",
              "          document.querySelector('#df-bbf66a69-3564-49c9-8eb4-efa6c6bbe052 button.colab-df-convert');\n",
              "        buttonEl.style.display =\n",
              "          google.colab.kernel.accessAllowed ? 'block' : 'none';\n",
              "\n",
              "        async function convertToInteractive(key) {\n",
              "          const element = document.querySelector('#df-bbf66a69-3564-49c9-8eb4-efa6c6bbe052');\n",
              "          const dataTable =\n",
              "            await google.colab.kernel.invokeFunction('convertToInteractive',\n",
              "                                                     [key], {});\n",
              "          if (!dataTable) return;\n",
              "\n",
              "          const docLinkHtml = 'Like what you see? Visit the ' +\n",
              "            '<a target=\"_blank\" href=https://colab.research.google.com/notebooks/data_table.ipynb>data table notebook</a>'\n",
              "            + ' to learn more about interactive tables.';\n",
              "          element.innerHTML = '';\n",
              "          dataTable['output_type'] = 'display_data';\n",
              "          await google.colab.output.renderOutput(dataTable, element);\n",
              "          const docLink = document.createElement('div');\n",
              "          docLink.innerHTML = docLinkHtml;\n",
              "          element.appendChild(docLink);\n",
              "        }\n",
              "      </script>\n",
              "    </div>\n",
              "  </div>\n",
              "  "
            ]
          },
          "metadata": {},
          "execution_count": 4
        }
      ],
      "source": [
        "df = pd.read_csv('fer2013.csv')\n",
        "df.head()"
      ]
    },
    {
      "cell_type": "markdown",
      "source": [
        "# Data Sampling and Pre-Processing"
      ],
      "metadata": {
        "id": "8VLMlZk959bf"
      }
    },
    {
      "cell_type": "markdown",
      "source": [
        "***No_of Unique Emotion***"
      ],
      "metadata": {
        "id": "OYNuWPZHiFhC"
      }
    },
    {
      "cell_type": "code",
      "execution_count": 5,
      "metadata": {
        "colab": {
          "base_uri": "https://localhost:8080/"
        },
        "id": "IUJhtP6ysv_J",
        "outputId": "aeb9ef5a-9011-4212-e988-7216929428b9"
      },
      "outputs": [
        {
          "output_type": "execute_result",
          "data": {
            "text/plain": [
              "array([0, 2, 4, 6, 3, 5, 1])"
            ]
          },
          "metadata": {},
          "execution_count": 5
        }
      ],
      "source": [
        "df.emotion.unique()"
      ]
    },
    {
      "cell_type": "code",
      "source": [
        "train_set = df[(df.Usage == 'Training')]\n",
        "validation_set = df[(df.Usage == 'PublicTest')]\n",
        "test_set = df[(df.Usage == 'PrivateTest')]"
      ],
      "metadata": {
        "id": "zRHUJE9Hs7eA"
      },
      "execution_count": 6,
      "outputs": []
    },
    {
      "cell_type": "code",
      "execution_count": 7,
      "metadata": {
        "id": "1nsANtuZuMJv"
      },
      "outputs": [],
      "source": [
        "label_to_text = {0:'anger', 1:'disgust', 2:'fear', 3:'happiness', 4: 'sadness', 5: 'surprise', 6: 'neutral'} \n",
        "num_class = len(label_to_text)"
      ]
    },
    {
      "cell_type": "code",
      "execution_count": 8,
      "metadata": {
        "colab": {
          "base_uri": "https://localhost:8080/"
        },
        "id": "W3qTOdCGujUV",
        "outputId": "351b0afb-ff39-4cc8-dfc4-060baad7f20e"
      },
      "outputs": [
        {
          "output_type": "execute_result",
          "data": {
            "text/plain": [
              "{0: 'anger',\n",
              " 1: 'disgust',\n",
              " 2: 'fear',\n",
              " 3: 'happiness',\n",
              " 4: 'sadness',\n",
              " 5: 'surprise',\n",
              " 6: 'neutral'}"
            ]
          },
          "metadata": {},
          "execution_count": 8
        }
      ],
      "source": [
        "label_to_text"
      ]
    },
    {
      "cell_type": "code",
      "source": [
        "print('Samples per emotion:')\n",
        "print(df.emotion.value_counts())"
      ],
      "metadata": {
        "colab": {
          "base_uri": "https://localhost:8080/"
        },
        "id": "ySSDCva8sgo0",
        "outputId": "5632c4c2-2d31-4aec-dc5a-b6f6bb25e26b"
      },
      "execution_count": 9,
      "outputs": [
        {
          "output_type": "stream",
          "name": "stdout",
          "text": [
            "Samples per emotion:\n",
            "3    8989\n",
            "6    6198\n",
            "4    6077\n",
            "2    5121\n",
            "0    4953\n",
            "5    4002\n",
            "1     547\n",
            "Name: emotion, dtype: int64\n"
          ]
        }
      ]
    },
    {
      "cell_type": "code",
      "execution_count": 10,
      "metadata": {
        "colab": {
          "base_uri": "https://localhost:8080/"
        },
        "id": "GAlpx2T4vyL9",
        "outputId": "cb523bd7-8ba8-4855-e069-12bb723db663"
      },
      "outputs": [
        {
          "output_type": "execute_result",
          "data": {
            "text/plain": [
              "array([['70', '80', '82', ..., '52', '43', '41'],\n",
              "       ['65', '61', '58', ..., '56', '52', '44'],\n",
              "       ['50', '43', '54', ..., '49', '56', '47'],\n",
              "       ...,\n",
              "       ['91', '65', '42', ..., '72', '56', '43'],\n",
              "       ['77', '82', '79', ..., '105', '70', '46'],\n",
              "       ['77', '72', '84', ..., '106', '109', '82']], dtype='<U3')"
            ]
          },
          "metadata": {},
          "execution_count": 10
        }
      ],
      "source": [
        "np.array(df.pixels.loc[0].split(' ')).reshape(48,48)"
      ]
    },
    {
      "cell_type": "code",
      "source": [
        "from math import sqrt\n",
        "depth = 1\n",
        "height = int(sqrt(len(df.pixels[0].split())))\n",
        "width = height"
      ],
      "metadata": {
        "id": "ZvAVX7CD1x9q"
      },
      "execution_count": 11,
      "outputs": []
    },
    {
      "cell_type": "code",
      "source": [
        "df = train_set.values\n",
        "pixels = df[:, 1]\n",
        "X_train = np.zeros((train_set.shape[0], 48*48))\n",
        "for ix in range(X_train.shape[0]):\n",
        "    p = pixels[ix].split(' ')\n",
        "    for iy in range(X_train.shape[1]):\n",
        "        X_train[ix, iy] = int(p[iy])\n",
        "\n",
        "df = validation_set.values\n",
        "pixels = df[:, 1]\n",
        "X_validation = np.zeros((validation_set.shape[0], 48*48))\n",
        "for ix in range(X_validation.shape[0]):\n",
        "    p = pixels[ix].split(' ')\n",
        "    for iy in range(X_validation.shape[1]):\n",
        "        X_validation[ix, iy] = int(p[iy])\n",
        "\n",
        "df = test_set.values\n",
        "pixels = df[:, 1]\n",
        "X_test = np.zeros((test_set.shape[0], 48*48))\n",
        "for ix in range(X_test.shape[0]):\n",
        "    p = pixels[ix].split(' ')\n",
        "    for iy in range(X_test.shape[1]):\n",
        "        X_test[ix, iy] = int(p[iy])"
      ],
      "metadata": {
        "id": "94Ze0f7Iurhs"
      },
      "execution_count": 12,
      "outputs": []
    },
    {
      "cell_type": "code",
      "source": [
        "print(np.array(validation_set.emotion))"
      ],
      "metadata": {
        "colab": {
          "base_uri": "https://localhost:8080/"
        },
        "id": "pyOPCsr6yJwJ",
        "outputId": "d66e763b-e15f-488a-d37c-6b60b2b94b91"
      },
      "execution_count": 13,
      "outputs": [
        {
          "output_type": "stream",
          "name": "stdout",
          "text": [
            "[0 1 4 ... 4 4 4]\n"
          ]
        }
      ]
    },
    {
      "cell_type": "code",
      "source": [
        "sample_number = 322\n",
        "import numpy as np\n",
        "import scipy.misc\n",
        "img = np.mat(X_test[sample_number]).reshape(48,48)\n",
        "plt.imshow(img,cmap='gray')\n",
        "print(label_to_text[np.array(test_set.emotion)[sample_number]])"
      ],
      "metadata": {
        "colab": {
          "base_uri": "https://localhost:8080/",
          "height": 284
        },
        "id": "Bpvkx8YJwdcr",
        "outputId": "ca7af42d-c45b-4995-b7eb-527b68e5f59b"
      },
      "execution_count": 14,
      "outputs": [
        {
          "output_type": "stream",
          "name": "stdout",
          "text": [
            "neutral\n"
          ]
        },
        {
          "output_type": "display_data",
          "data": {
            "text/plain": [
              "<Figure size 432x288 with 1 Axes>"
            ],
            "image/png": "[encoded data removed]"
          },
          "metadata": {
            "needs_background": "light"
          }
        }
      ]
    },
    {
      "cell_type": "markdown",
      "source": [
        "To form our input for the neural network, we defined image above and reshape them to (48x48x1) numpy arrays\n",
        "\n"
      ],
      "metadata": {
        "id": "q3N0KzKG8A8v"
      }
    },
    {
      "cell_type": "code",
      "source": [
        "num_train = X_train.shape[0]\n",
        "num_validation = X_validation.shape[0]\n",
        "num_test = X_test.shape[0]\n",
        "\n",
        "X_train = X_train.reshape(num_train, width, height, depth)\n",
        "X_validation = X_validation.reshape(num_test, width, height, depth)\n",
        "X_test = X_test.reshape(num_test, width, height, depth)\n",
        "\n",
        "print('Training: ',X_train.shape)\n",
        "print('Validation: ',X_validation.shape)\n",
        "print('Test: ',X_test.shape)"
      ],
      "metadata": {
        "colab": {
          "base_uri": "https://localhost:8080/"
        },
        "id": "qfXm7iOA0sNR",
        "outputId": "ea9c19d6-8256-4cf9-fdd1-91b0ceae8746"
      },
      "execution_count": 15,
      "outputs": [
        {
          "output_type": "stream",
          "name": "stdout",
          "text": [
            "Training:  (28709, 48, 48, 1)\n",
            "Validation:  (3589, 48, 48, 1)\n",
            "Test:  (3589, 48, 48, 1)\n"
          ]
        }
      ]
    },
    {
      "cell_type": "code",
      "source": [
        "from keras.utils import np_utils\n",
        "\n",
        "y_train = train_set.emotion\n",
        "y_train = np_utils.to_categorical(y_train, num_class)\n",
        "\n",
        "y_validation = validation_set.emotion\n",
        "y_validation = np_utils.to_categorical(y_validation, num_class)\n",
        "\n",
        "y_test = test_set.emotion\n",
        "y_test = np_utils.to_categorical(y_test, num_class)\n",
        "\n",
        "print('Training: ',y_train.shape)\n",
        "print('Validation: ',y_validation.shape)\n",
        "print('Test: ',y_test.shape)"
      ],
      "metadata": {
        "colab": {
          "base_uri": "https://localhost:8080/"
        },
        "id": "5iZ_Ri49z14W",
        "outputId": "7a1688ed-458d-47f3-9cab-3e69089808f6"
      },
      "execution_count": 16,
      "outputs": [
        {
          "output_type": "stream",
          "name": "stdout",
          "text": [
            "Training:  (28709, 7)\n",
            "Validation:  (3589, 7)\n",
            "Test:  (3589, 7)\n"
          ]
        }
      ]
    },
    {
      "cell_type": "markdown",
      "source": [
        "# Model Architecture\n"
      ],
      "metadata": {
        "id": "wAkguj0C9RHW"
      }
    },
    {
      "cell_type": "code",
      "metadata": {
        "id": "6cYYDHomsD3q"
      },
      "source": [
        "from keras.layers import Convolution2D, Activation, BatchNormalization, MaxPooling2D, Dropout, Dense, Flatten, AveragePooling2D\n",
        "from keras.models import Sequential\n",
        "\n",
        "model = Sequential()\n",
        "\n",
        "model.add(Convolution2D(64, (3, 1), padding='same', input_shape=(48,48,1)))\n",
        "model.add(Convolution2D(64, (1, 3), padding='same'))\n",
        "model.add(BatchNormalization())\n",
        "model.add(Activation('relu'))\n",
        "model.add(MaxPooling2D(pool_size=(2, 2), strides=None, padding='same'))\n",
        "model.add(Dropout(0.25))\n",
        "\n",
        "model.add(Convolution2D(128, (3, 1), padding='same'))\n",
        "model.add(Convolution2D(128, (1, 3), padding='same'))\n",
        "model.add(BatchNormalization())\n",
        "model.add(Activation('relu'))\n",
        "model.add(MaxPooling2D(pool_size=(2, 2), strides=None, padding='same'))\n",
        "model.add(Dropout(0.25))\n",
        "\n",
        "model.add(Convolution2D(256, (3, 1), padding='same'))\n",
        "model.add(Convolution2D(256, (1, 3), padding='same'))\n",
        "model.add(BatchNormalization())\n",
        "model.add(Activation('relu'))\n",
        "model.add(MaxPooling2D(pool_size=(2, 2), strides=None, padding='same'))\n",
        "model.add(Dropout(0.25))\n",
        "\n",
        "model.add(Convolution2D(512, (3, 1), padding='same'))\n",
        "model.add(Convolution2D(512, (1, 3), padding='same'))\n",
        "model.add(BatchNormalization())\n",
        "model.add(Activation('relu'))\n",
        "model.add(MaxPooling2D(pool_size=(2, 2), strides=None, padding='same'))\n",
        "model.add(Dropout(0.25))\n",
        "model.add(Flatten())\n",
        "\n",
        "model.add(Dense(512))\n",
        "model.add(BatchNormalization())\n",
        "model.add(Activation('relu'))\n",
        "model.add(Dropout(0.25))\n",
        "\n",
        "model.add(Dense(256))\n",
        "model.add(BatchNormalization())\n",
        "model.add(Activation('relu'))\n",
        "model.add(Dropout(0.25))\n",
        "\n",
        "model.add(Dense(7))\n",
        "model.add(Activation('softmax'))\n"
      ],
      "execution_count": 17,
      "outputs": []
    },
    {
      "cell_type": "code",
      "source": [
        "model.summary()"
      ],
      "metadata": {
        "colab": {
          "base_uri": "https://localhost:8080/"
        },
        "id": "MhgyFj9h02qO",
        "outputId": "9323270f-c5d7-402f-d072-4a985f7929e8"
      },
      "execution_count": 19,
      "outputs": [
        {
          "output_type": "stream",
          "name": "stdout",
          "text": [
            "Model: \"sequential\"\n",
            "_________________________________________________________________\n",
            " Layer (type)                Output Shape              Param #   \n",
            "=================================================================\n",
            " conv2d (Conv2D)             (None, 48, 48, 64)        256       \n",
            "                                                                 \n",
            " conv2d_1 (Conv2D)           (None, 48, 48, 64)        12352     \n",
            "                                                                 \n",
            " batch_normalization (BatchN  (None, 48, 48, 64)       256       \n",
            " ormalization)                                                   \n",
            "                                                                 \n",
            " activation (Activation)     (None, 48, 48, 64)        0         \n",
            "                                                                 \n",
            " max_pooling2d (MaxPooling2D  (None, 24, 24, 64)       0         \n",
            " )                                                               \n",
            "                                                                 \n",
            " dropout (Dropout)           (None, 24, 24, 64)        0         \n",
            "                                                                 \n",
            " conv2d_2 (Conv2D)           (None, 24, 24, 128)       24704     \n",
            "                                                                 \n",
            " conv2d_3 (Conv2D)           (None, 24, 24, 128)       49280     \n",
            "                                                                 \n",
            " batch_normalization_1 (Batc  (None, 24, 24, 128)      512       \n",
            " hNormalization)                                                 \n",
            "                                                                 \n",
            " activation_1 (Activation)   (None, 24, 24, 128)       0         \n",
            "                                                                 \n",
            " max_pooling2d_1 (MaxPooling  (None, 12, 12, 128)      0         \n",
            " 2D)                                                             \n",
            "                                                                 \n",
            " dropout_1 (Dropout)         (None, 12, 12, 128)       0         \n",
            "                                                                 \n",
            " conv2d_4 (Conv2D)           (None, 12, 12, 256)       98560     \n",
            "                                                                 \n",
            " conv2d_5 (Conv2D)           (None, 12, 12, 256)       196864    \n",
            "                                                                 \n",
            " batch_normalization_2 (Batc  (None, 12, 12, 256)      1024      \n",
            " hNormalization)                                                 \n",
            "                                                                 \n",
            " activation_2 (Activation)   (None, 12, 12, 256)       0         \n",
            "                                                                 \n",
            " max_pooling2d_2 (MaxPooling  (None, 6, 6, 256)        0         \n",
            " 2D)                                                             \n",
            "                                                                 \n",
            " dropout_2 (Dropout)         (None, 6, 6, 256)         0         \n",
            "                                                                 \n",
            " conv2d_6 (Conv2D)           (None, 6, 6, 512)         393728    \n",
            "                                                                 \n",
            " conv2d_7 (Conv2D)           (None, 6, 6, 512)         786944    \n",
            "                                                                 \n",
            " batch_normalization_3 (Batc  (None, 6, 6, 512)        2048      \n",
            " hNormalization)                                                 \n",
            "                                                                 \n",
            " activation_3 (Activation)   (None, 6, 6, 512)         0         \n",
            "                                                                 \n",
            " max_pooling2d_3 (MaxPooling  (None, 3, 3, 512)        0         \n",
            " 2D)                                                             \n",
            "                                                                 \n",
            " dropout_3 (Dropout)         (None, 3, 3, 512)         0         \n",
            "                                                                 \n",
            " flatten (Flatten)           (None, 4608)              0         \n",
            "                                                                 \n",
            " dense (Dense)               (None, 512)               2359808   \n",
            "                                                                 \n",
            " batch_normalization_4 (Batc  (None, 512)              2048      \n",
            " hNormalization)                                                 \n",
            "                                                                 \n",
            " activation_4 (Activation)   (None, 512)               0         \n",
            "                                                                 \n",
            " dropout_4 (Dropout)         (None, 512)               0         \n",
            "                                                                 \n",
            " dense_1 (Dense)             (None, 256)               131328    \n",
            "                                                                 \n",
            " batch_normalization_5 (Batc  (None, 256)              1024      \n",
            " hNormalization)                                                 \n",
            "                                                                 \n",
            " activation_5 (Activation)   (None, 256)               0         \n",
            "                                                                 \n",
            " dropout_5 (Dropout)         (None, 256)               0         \n",
            "                                                                 \n",
            " dense_2 (Dense)             (None, 7)                 1799      \n",
            "                                                                 \n",
            " activation_6 (Activation)   (None, 7)                 0         \n",
            "                                                                 \n",
            "=================================================================\n",
            "Total params: 4,062,535\n",
            "Trainable params: 4,059,079\n",
            "Non-trainable params: 3,456\n",
            "_________________________________________________________________\n"
          ]
        }
      ]
    },
    {
      "cell_type": "code",
      "source": [
        "from keras.preprocessing.image import ImageDataGenerator \n",
        "\n",
        "datagen = ImageDataGenerator(\n",
        "    featurewise_center=False, \n",
        "    samplewise_center=False, \n",
        "    featurewise_std_normalization=False,\n",
        "    samplewise_std_normalization=False,\n",
        "    zca_whitening=False, \n",
        "    rotation_range=0, \n",
        "    width_shift_range=0.0,\n",
        "    height_shift_range=0.0, \n",
        "    horizontal_flip=True,  \n",
        "    vertical_flip=False, \n",
        "    )\n",
        "\n",
        "\n",
        "datagen.fit(X_train)\n",
        "datagen.fit(X_validation)"
      ],
      "metadata": {
        "id": "x6cFwosg1Em7"
      },
      "execution_count": 18,
      "outputs": []
    },
    {
      "cell_type": "code",
      "source": [
        "batch_size = 128\n",
        "num_epochs = 40"
      ],
      "metadata": {
        "id": "4RiHDy796ow0"
      },
      "execution_count": 19,
      "outputs": []
    },
    {
      "cell_type": "code",
      "source": [
        "file_name = 'our_model.h5'\n",
        "face_path= os.path.join('facial_emotion_detection',file_name)\n",
        "\n",
        "call_back = tf.keras.callbacks.ModelCheckpoint(filepath=face_path, \n",
        "                                                 monitor='val_accuracy', \n",
        "                                                 verbose=1,\n",
        "                                                 save_freq='epoch',\n",
        "                                                 save_best_only=True, \n",
        "                                                 save_weights_only=False, \n",
        "                                                 mode='max')"
      ],
      "metadata": {
        "id": "kmQOdGX060tD"
      },
      "execution_count": 22,
      "outputs": []
    },
    {
      "cell_type": "code",
      "source": [
        "model.compile(optimizer= tf.keras.optimizers.RMSprop(learning_rate = .0005),\n",
        "                 loss = 'CategoricalCrossentropy',\n",
        "                 metrics = ['accuracy'])"
      ],
      "metadata": {
        "id": "UQvLga5R67pC"
      },
      "execution_count": 23,
      "outputs": []
    },
    {
      "cell_type": "code",
      "source": [
        "validation_flow = datagen.flow(X_validation, y_validation)\n",
        "train_flow = datagen.flow(X_train,y_train)"
      ],
      "metadata": {
        "id": "Eibsdhm07BgA"
      },
      "execution_count": 24,
      "outputs": []
    },
    {
      "cell_type": "code",
      "source": [
        "history = model.fit_generator(train_flow,\n",
        "                    epochs=num_epochs, \n",
        "                    verbose=1, \n",
        "                    validation_data=validation_flow, \n",
        "                    callbacks= call_back)"
      ],
      "metadata": {
        "colab": {
          "base_uri": "https://localhost:8080/"
        },
        "id": "xQ10PzeX7Jc5",
        "outputId": "77ff1b6e-ccd0-42a8-8b6c-1dbe4c0fd40a"
      },
      "execution_count": 25,
      "outputs": [
        {
          "output_type": "stream",
          "name": "stdout",
          "text": [
            "Epoch 1/40\n"
          ]
        },
        {
          "output_type": "stream",
          "name": "stderr",
          "text": [
            "/usr/local/lib/python3.7/dist-packages/ipykernel_launcher.py:5: UserWarning: `Model.fit_generator` is deprecated and will be removed in a future version. Please use `Model.fit`, which supports generators.\n",
            "  \"\"\"\n"
          ]
        },
        {
          "output_type": "stream",
          "name": "stdout",
          "text": [
            "896/898 [============================>.] - ETA: 0s - loss: 1.6995 - accuracy: 0.3525\n",
            "Epoch 1: val_accuracy improved from -inf to 0.37503, saving model to facial_emotion_detection/our_model.h5\n",
            "898/898 [==============================] - 29s 24ms/step - loss: 1.6996 - accuracy: 0.3524 - val_loss: 1.7594 - val_accuracy: 0.3750\n",
            "Epoch 2/40\n",
            "898/898 [==============================] - ETA: 0s - loss: 1.3948 - accuracy: 0.4652\n",
            "Epoch 2: val_accuracy improved from 0.37503 to 0.47701, saving model to facial_emotion_detection/our_model.h5\n",
            "898/898 [==============================] - 22s 24ms/step - loss: 1.3948 - accuracy: 0.4652 - val_loss: 1.3554 - val_accuracy: 0.4770\n",
            "Epoch 3/40\n",
            "898/898 [==============================] - ETA: 0s - loss: 1.2904 - accuracy: 0.5091\n",
            "Epoch 3: val_accuracy improved from 0.47701 to 0.52828, saving model to facial_emotion_detection/our_model.h5\n",
            "898/898 [==============================] - 22s 24ms/step - loss: 1.2904 - accuracy: 0.5091 - val_loss: 1.2374 - val_accuracy: 0.5283\n",
            "Epoch 4/40\n",
            "898/898 [==============================] - ETA: 0s - loss: 1.2262 - accuracy: 0.5357\n",
            "Epoch 4: val_accuracy did not improve from 0.52828\n",
            "898/898 [==============================] - 21s 24ms/step - loss: 1.2262 - accuracy: 0.5357 - val_loss: 1.5497 - val_accuracy: 0.4244\n",
            "Epoch 5/40\n",
            "898/898 [==============================] - ETA: 0s - loss: 1.1961 - accuracy: 0.5483\n",
            "Epoch 5: val_accuracy improved from 0.52828 to 0.54778, saving model to facial_emotion_detection/our_model.h5\n",
            "898/898 [==============================] - 22s 25ms/step - loss: 1.1961 - accuracy: 0.5483 - val_loss: 1.1890 - val_accuracy: 0.5478\n",
            "Epoch 6/40\n",
            "898/898 [==============================] - ETA: 0s - loss: 1.1647 - accuracy: 0.5598\n",
            "Epoch 6: val_accuracy did not improve from 0.54778\n",
            "898/898 [==============================] - 22s 24ms/step - loss: 1.1647 - accuracy: 0.5598 - val_loss: 1.3776 - val_accuracy: 0.4946\n",
            "Epoch 7/40\n",
            "898/898 [==============================] - ETA: 0s - loss: 1.1433 - accuracy: 0.5678\n",
            "Epoch 7: val_accuracy improved from 0.54778 to 0.57286, saving model to facial_emotion_detection/our_model.h5\n",
            "898/898 [==============================] - 22s 25ms/step - loss: 1.1433 - accuracy: 0.5678 - val_loss: 1.1205 - val_accuracy: 0.5729\n",
            "Epoch 8/40\n",
            "898/898 [==============================] - ETA: 0s - loss: 1.1239 - accuracy: 0.5795\n",
            "Epoch 8: val_accuracy did not improve from 0.57286\n",
            "898/898 [==============================] - 22s 24ms/step - loss: 1.1239 - accuracy: 0.5795 - val_loss: 1.2445 - val_accuracy: 0.5684\n",
            "Epoch 9/40\n",
            "896/898 [============================>.] - ETA: 0s - loss: 1.1036 - accuracy: 0.5857\n",
            "Epoch 9: val_accuracy improved from 0.57286 to 0.59989, saving model to facial_emotion_detection/our_model.h5\n",
            "898/898 [==============================] - 22s 25ms/step - loss: 1.1037 - accuracy: 0.5855 - val_loss: 1.0926 - val_accuracy: 0.5999\n",
            "Epoch 10/40\n",
            "898/898 [==============================] - ETA: 0s - loss: 1.0898 - accuracy: 0.5902\n",
            "Epoch 10: val_accuracy did not improve from 0.59989\n",
            "898/898 [==============================] - 22s 24ms/step - loss: 1.0898 - accuracy: 0.5902 - val_loss: 1.2119 - val_accuracy: 0.5731\n",
            "Epoch 11/40\n",
            "896/898 [============================>.] - ETA: 0s - loss: 1.0747 - accuracy: 0.6000\n",
            "Epoch 11: val_accuracy did not improve from 0.59989\n",
            "898/898 [==============================] - 22s 24ms/step - loss: 1.0749 - accuracy: 0.6000 - val_loss: 1.1594 - val_accuracy: 0.5935\n",
            "Epoch 12/40\n",
            "896/898 [============================>.] - ETA: 0s - loss: 1.0640 - accuracy: 0.6037\n",
            "Epoch 12: val_accuracy did not improve from 0.59989\n",
            "898/898 [==============================] - 23s 25ms/step - loss: 1.0641 - accuracy: 0.6035 - val_loss: 1.0785 - val_accuracy: 0.5932\n",
            "Epoch 13/40\n",
            "898/898 [==============================] - ETA: 0s - loss: 1.0500 - accuracy: 0.6085\n",
            "Epoch 13: val_accuracy improved from 0.59989 to 0.60100, saving model to facial_emotion_detection/our_model.h5\n",
            "898/898 [==============================] - 23s 25ms/step - loss: 1.0500 - accuracy: 0.6085 - val_loss: 1.0704 - val_accuracy: 0.6010\n",
            "Epoch 14/40\n",
            "897/898 [============================>.] - ETA: 0s - loss: 1.0406 - accuracy: 0.6119\n",
            "Epoch 14: val_accuracy did not improve from 0.60100\n",
            "898/898 [==============================] - 22s 24ms/step - loss: 1.0405 - accuracy: 0.6119 - val_loss: 1.0690 - val_accuracy: 0.5965\n",
            "Epoch 15/40\n",
            "898/898 [==============================] - ETA: 0s - loss: 1.0286 - accuracy: 0.6132\n",
            "Epoch 15: val_accuracy improved from 0.60100 to 0.61076, saving model to facial_emotion_detection/our_model.h5\n",
            "898/898 [==============================] - 23s 26ms/step - loss: 1.0286 - accuracy: 0.6132 - val_loss: 1.0662 - val_accuracy: 0.6108\n",
            "Epoch 16/40\n",
            "897/898 [============================>.] - ETA: 0s - loss: 1.0171 - accuracy: 0.6225\n",
            "Epoch 16: val_accuracy did not improve from 0.61076\n",
            "898/898 [==============================] - 22s 24ms/step - loss: 1.0170 - accuracy: 0.6226 - val_loss: 1.1287 - val_accuracy: 0.5946\n",
            "Epoch 17/40\n",
            "896/898 [============================>.] - ETA: 0s - loss: 1.0074 - accuracy: 0.6265\n",
            "Epoch 17: val_accuracy did not improve from 0.61076\n",
            "898/898 [==============================] - 22s 24ms/step - loss: 1.0073 - accuracy: 0.6266 - val_loss: 1.2032 - val_accuracy: 0.5575\n",
            "Epoch 18/40\n",
            "896/898 [============================>.] - ETA: 0s - loss: 0.9993 - accuracy: 0.6264\n",
            "Epoch 18: val_accuracy did not improve from 0.61076\n",
            "898/898 [==============================] - 22s 24ms/step - loss: 1.0002 - accuracy: 0.6261 - val_loss: 1.1413 - val_accuracy: 0.5887\n",
            "Epoch 19/40\n",
            "896/898 [============================>.] - ETA: 0s - loss: 0.9820 - accuracy: 0.6357\n",
            "Epoch 19: val_accuracy did not improve from 0.61076\n",
            "898/898 [==============================] - 22s 24ms/step - loss: 0.9824 - accuracy: 0.6354 - val_loss: 1.0971 - val_accuracy: 0.6024\n",
            "Epoch 20/40\n",
            "896/898 [============================>.] - ETA: 0s - loss: 0.9834 - accuracy: 0.6349\n",
            "Epoch 20: val_accuracy improved from 0.61076 to 0.61159, saving model to facial_emotion_detection/our_model.h5\n",
            "898/898 [==============================] - 22s 25ms/step - loss: 0.9831 - accuracy: 0.6351 - val_loss: 1.0874 - val_accuracy: 0.6116\n",
            "Epoch 21/40\n",
            "898/898 [==============================] - ETA: 0s - loss: 0.9704 - accuracy: 0.6368\n",
            "Epoch 21: val_accuracy improved from 0.61159 to 0.62106, saving model to facial_emotion_detection/our_model.h5\n",
            "898/898 [==============================] - 22s 25ms/step - loss: 0.9704 - accuracy: 0.6368 - val_loss: 1.0097 - val_accuracy: 0.6211\n",
            "Epoch 22/40\n",
            "898/898 [==============================] - ETA: 0s - loss: 0.9667 - accuracy: 0.6427\n",
            "Epoch 22: val_accuracy improved from 0.62106 to 0.62469, saving model to facial_emotion_detection/our_model.h5\n",
            "898/898 [==============================] - 23s 26ms/step - loss: 0.9667 - accuracy: 0.6427 - val_loss: 1.0311 - val_accuracy: 0.6247\n",
            "Epoch 23/40\n",
            "896/898 [============================>.] - ETA: 0s - loss: 0.9570 - accuracy: 0.6428\n",
            "Epoch 23: val_accuracy did not improve from 0.62469\n",
            "898/898 [==============================] - 22s 24ms/step - loss: 0.9574 - accuracy: 0.6426 - val_loss: 1.0425 - val_accuracy: 0.6186\n",
            "Epoch 24/40\n",
            "896/898 [============================>.] - ETA: 0s - loss: 0.9439 - accuracy: 0.6472\n",
            "Epoch 24: val_accuracy did not improve from 0.62469\n",
            "898/898 [==============================] - 22s 24ms/step - loss: 0.9437 - accuracy: 0.6471 - val_loss: 1.0617 - val_accuracy: 0.6208\n",
            "Epoch 25/40\n",
            "896/898 [============================>.] - ETA: 0s - loss: 0.9410 - accuracy: 0.6513\n",
            "Epoch 25: val_accuracy did not improve from 0.62469\n",
            "898/898 [==============================] - 22s 24ms/step - loss: 0.9408 - accuracy: 0.6514 - val_loss: 1.1769 - val_accuracy: 0.6116\n",
            "Epoch 26/40\n",
            "898/898 [==============================] - ETA: 0s - loss: 0.9325 - accuracy: 0.6545\n",
            "Epoch 26: val_accuracy did not improve from 0.62469\n",
            "898/898 [==============================] - 22s 24ms/step - loss: 0.9325 - accuracy: 0.6545 - val_loss: 1.0391 - val_accuracy: 0.6169\n",
            "Epoch 27/40\n",
            "898/898 [==============================] - ETA: 0s - loss: 0.9207 - accuracy: 0.6597\n",
            "Epoch 27: val_accuracy improved from 0.62469 to 0.62580, saving model to facial_emotion_detection/our_model.h5\n",
            "898/898 [==============================] - 22s 25ms/step - loss: 0.9207 - accuracy: 0.6597 - val_loss: 1.0817 - val_accuracy: 0.6258\n",
            "Epoch 28/40\n",
            "898/898 [==============================] - ETA: 0s - loss: 0.9163 - accuracy: 0.6631\n",
            "Epoch 28: val_accuracy did not improve from 0.62580\n",
            "898/898 [==============================] - 22s 24ms/step - loss: 0.9163 - accuracy: 0.6631 - val_loss: 1.0383 - val_accuracy: 0.6174\n",
            "Epoch 29/40\n",
            "896/898 [============================>.] - ETA: 0s - loss: 0.9112 - accuracy: 0.6647\n",
            "Epoch 29: val_accuracy did not improve from 0.62580\n",
            "898/898 [==============================] - 21s 24ms/step - loss: 0.9111 - accuracy: 0.6648 - val_loss: 1.0992 - val_accuracy: 0.6158\n",
            "Epoch 30/40\n",
            "896/898 [============================>.] - ETA: 0s - loss: 0.9025 - accuracy: 0.6674\n",
            "Epoch 30: val_accuracy did not improve from 0.62580\n",
            "898/898 [==============================] - 21s 24ms/step - loss: 0.9022 - accuracy: 0.6675 - val_loss: 1.0486 - val_accuracy: 0.6225\n",
            "Epoch 31/40\n",
            "898/898 [==============================] - ETA: 0s - loss: 0.8934 - accuracy: 0.6697\n",
            "Epoch 31: val_accuracy did not improve from 0.62580\n",
            "898/898 [==============================] - 22s 24ms/step - loss: 0.8934 - accuracy: 0.6697 - val_loss: 1.0955 - val_accuracy: 0.6113\n",
            "Epoch 32/40\n",
            "896/898 [============================>.] - ETA: 0s - loss: 0.8816 - accuracy: 0.6756\n",
            "Epoch 32: val_accuracy did not improve from 0.62580\n",
            "898/898 [==============================] - 22s 24ms/step - loss: 0.8814 - accuracy: 0.6756 - val_loss: 1.0500 - val_accuracy: 0.6222\n",
            "Epoch 33/40\n",
            "898/898 [==============================] - ETA: 0s - loss: 0.8774 - accuracy: 0.6778\n",
            "Epoch 33: val_accuracy improved from 0.62580 to 0.63472, saving model to facial_emotion_detection/our_model.h5\n",
            "898/898 [==============================] - 22s 25ms/step - loss: 0.8774 - accuracy: 0.6778 - val_loss: 0.9852 - val_accuracy: 0.6347\n",
            "Epoch 34/40\n",
            "898/898 [==============================] - ETA: 0s - loss: 0.8758 - accuracy: 0.6785\n",
            "Epoch 34: val_accuracy did not improve from 0.63472\n",
            "898/898 [==============================] - 22s 24ms/step - loss: 0.8758 - accuracy: 0.6785 - val_loss: 1.0392 - val_accuracy: 0.6291\n",
            "Epoch 35/40\n",
            "898/898 [==============================] - ETA: 0s - loss: 0.8600 - accuracy: 0.6866\n",
            "Epoch 35: val_accuracy did not improve from 0.63472\n",
            "898/898 [==============================] - 22s 24ms/step - loss: 0.8600 - accuracy: 0.6866 - val_loss: 1.0560 - val_accuracy: 0.6289\n",
            "Epoch 36/40\n",
            "896/898 [============================>.] - ETA: 0s - loss: 0.8654 - accuracy: 0.6827\n",
            "Epoch 36: val_accuracy did not improve from 0.63472\n",
            "898/898 [==============================] - 22s 24ms/step - loss: 0.8651 - accuracy: 0.6829 - val_loss: 0.9982 - val_accuracy: 0.6314\n",
            "Epoch 37/40\n",
            "896/898 [============================>.] - ETA: 0s - loss: 0.8539 - accuracy: 0.6861\n",
            "Epoch 37: val_accuracy did not improve from 0.63472\n",
            "898/898 [==============================] - 22s 24ms/step - loss: 0.8537 - accuracy: 0.6862 - val_loss: 1.0244 - val_accuracy: 0.6244\n",
            "Epoch 38/40\n",
            "898/898 [==============================] - ETA: 0s - loss: 0.8463 - accuracy: 0.6898\n",
            "Epoch 38: val_accuracy did not improve from 0.63472\n",
            "898/898 [==============================] - 22s 24ms/step - loss: 0.8463 - accuracy: 0.6898 - val_loss: 1.0733 - val_accuracy: 0.6305\n",
            "Epoch 39/40\n",
            "897/898 [============================>.] - ETA: 0s - loss: 0.8371 - accuracy: 0.6919\n",
            "Epoch 39: val_accuracy did not improve from 0.63472\n",
            "898/898 [==============================] - 22s 24ms/step - loss: 0.8371 - accuracy: 0.6919 - val_loss: 1.0042 - val_accuracy: 0.6261\n",
            "Epoch 40/40\n",
            "898/898 [==============================] - ETA: 0s - loss: 0.8253 - accuracy: 0.6968\n",
            "Epoch 40: val_accuracy improved from 0.63472 to 0.64280, saving model to facial_emotion_detection/our_model.h5\n",
            "898/898 [==============================] - 23s 26ms/step - loss: 0.8253 - accuracy: 0.6968 - val_loss: 1.0226 - val_accuracy: 0.6428\n"
          ]
        }
      ]
    },
    {
      "cell_type": "code",
      "execution_count": 26,
      "metadata": {
        "id": "e7rLniqtEy0h"
      },
      "outputs": [],
      "source": [
        "import os\n",
        "try:\n",
        "   os.mkdir('facial_emotion')\n",
        "except:\n",
        "       pass"
      ]
    },
    {
      "cell_type": "code",
      "execution_count": 27,
      "metadata": {
        "id": "TFBhh4n_G8gy"
      },
      "outputs": [],
      "source": [
        "file_name = 'our_model.h5'\n",
        "face_path= os.path.join('facial_emotion_detection',file_name)\n",
        "\n",
        "call_back = tf.keras.callbacks.ModelCheckpoint(filepath=face_path, \n",
        "                                                 monitor='val_accuracy', \n",
        "                                                 verbose=1,\n",
        "                                                 save_freq='epoch',\n",
        "                                                 save_best_only=True, \n",
        "                                                 save_weights_only=False, \n",
        "                                                 mode='max')"
      ]
    },
    {
      "cell_type": "code",
      "execution_count": 28,
      "metadata": {
        "colab": {
          "base_uri": "https://localhost:8080/",
          "height": 312
        },
        "id": "dMQkRyI3gE2b",
        "outputId": "31c559f5-ffac-40c0-df0e-9ef2496fa310"
      },
      "outputs": [
        {
          "output_type": "stream",
          "name": "stdout",
          "text": [
            "dict_keys(['loss', 'accuracy', 'val_loss', 'val_accuracy'])\n"
          ]
        },
        {
          "output_type": "display_data",
          "data": {
            "text/plain": [
              "<Figure size 432x288 with 1 Axes>"
            ],
            "image/png": "[encoded data removed]"
          },
          "metadata": {
            "needs_background": "light"
          }
        }
      ],
      "source": [
        "# list all data in history\n",
        "print(history.history.keys())\n",
        "# summarize history for accuracy\n",
        "plt.plot(history.history['accuracy'])\n",
        "plt.plot(history.history['val_accuracy'])\n",
        "plt.title('model accuracy')\n",
        "plt.ylabel('accuracy')\n",
        "plt.xlabel('epoch')\n",
        "plt.legend(['train', 'test'], loc='upper left')\n",
        "plt.show()\n"
      ]
    },
    {
      "cell_type": "code",
      "source": [
        "# summarize history for loss\n",
        "plt.plot(history.history['loss'])\n",
        "plt.plot(history.history['val_loss'])\n",
        "plt.title('model loss')\n",
        "plt.ylabel('loss')\n",
        "plt.xlabel('epoch')\n",
        "plt.legend(['train', 'test'], loc='upper left')\n",
        "plt.show()"
      ],
      "metadata": {
        "colab": {
          "base_uri": "https://localhost:8080/",
          "height": 295
        },
        "id": "CVN5-I2fbw-L",
        "outputId": "178aa7be-d81c-4fc9-9521-3aa878c090a5"
      },
      "execution_count": 29,
      "outputs": [
        {
          "output_type": "display_data",
          "data": {
            "text/plain": [
              "<Figure size 432x288 with 1 Axes>"
            ],
            "image/png": "[encoded data removed]"
          },
          "metadata": {
            "needs_background": "light"
          }
        }
      ]
    }
  ],
  "metadata": {
    "accelerator": "GPU",
    "colab": {
      "collapsed_sections": [],
      "name": "facial_emotion_recognition.ipynb",
      "provenance": []
    },
    "gpuClass": "standard",
    "kernelspec": {
      "display_name": "Python 3",
      "name": "python3"
    },
    "language_info": {
      "name": "python"
    }
  },
  "nbformat": 4,
  "nbformat_minor": 0
}